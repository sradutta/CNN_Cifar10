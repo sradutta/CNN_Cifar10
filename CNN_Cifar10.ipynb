{
 "cells": [
  {
   "cell_type": "code",
   "execution_count": 1,
   "id": "d769ffab",
   "metadata": {},
   "outputs": [],
   "source": [
    "import tensorflow as tf\n",
    "from tensorflow.keras.datasets import cifar10\n",
    "import numpy as np\n",
    "import pandas as pd\n",
    "import matplotlib.pyplot as plt\n",
    "import seaborn as sns\n"
   ]
  },
  {
   "cell_type": "code",
   "execution_count": 3,
   "id": "12faa669",
   "metadata": {},
   "outputs": [],
   "source": [
    "# Split data into train-test\n",
    "(X_train, y_train), (X_test, y_test) = cifar10.load_data()"
   ]
  },
  {
   "cell_type": "code",
   "execution_count": 4,
   "id": "552e3f96",
   "metadata": {},
   "outputs": [],
   "source": [
    "# Preprocess the data\n",
    "X_train = X_train.astype('float32')/255\n",
    "X_test = X_test.astype('float32')/255"
   ]
  },
  {
   "cell_type": "code",
   "execution_count": 6,
   "id": "b13e29aa",
   "metadata": {},
   "outputs": [],
   "source": [
    "# Define the model\n",
    "cnn = tf.keras.models.Sequential()\n",
    "cnn.add(tf.keras.layers.Conv2D(filters=32,kernel_size=(3,3),activation='relu',input_shape=[32,32,3]))\n",
    "cnn.add(tf.keras.layers.MaxPooling2D(2,2))\n",
    "cnn.add(tf.keras.layers.Conv2D(filters=64,kernel_size=(3,3),activation='relu'))\n",
    "cnn.add(tf.keras.layers.MaxPooling2D(2,2))\n",
    "cnn.add(tf.keras.layers.Conv2D(filters=32,kernel_size=(3,3),activation='relu'))\n",
    "cnn.add(tf.keras.layers.Flatten())\n",
    "cnn.add(tf.keras.layers.Dense(units=64,activation='relu'))\n",
    "cnn.add(tf.keras.layers.Dense(10))"
   ]
  },
  {
   "cell_type": "code",
   "execution_count": 7,
   "id": "d257c116",
   "metadata": {},
   "outputs": [
    {
     "name": "stdout",
     "output_type": "stream",
     "text": [
      "Model: \"sequential_1\"\n",
      "_________________________________________________________________\n",
      "Layer (type)                 Output Shape              Param #   \n",
      "=================================================================\n",
      "conv2d_1 (Conv2D)            (None, 30, 30, 32)        896       \n",
      "_________________________________________________________________\n",
      "max_pooling2d_1 (MaxPooling2 (None, 15, 15, 32)        0         \n",
      "_________________________________________________________________\n",
      "conv2d_2 (Conv2D)            (None, 13, 13, 64)        18496     \n",
      "_________________________________________________________________\n",
      "max_pooling2d_2 (MaxPooling2 (None, 6, 6, 64)          0         \n",
      "_________________________________________________________________\n",
      "conv2d_3 (Conv2D)            (None, 4, 4, 32)          18464     \n",
      "_________________________________________________________________\n",
      "flatten (Flatten)            (None, 512)               0         \n",
      "_________________________________________________________________\n",
      "dense (Dense)                (None, 64)                32832     \n",
      "_________________________________________________________________\n",
      "dense_1 (Dense)              (None, 10)                650       \n",
      "=================================================================\n",
      "Total params: 71,338\n",
      "Trainable params: 71,338\n",
      "Non-trainable params: 0\n",
      "_________________________________________________________________\n"
     ]
    }
   ],
   "source": [
    "cnn.summary()"
   ]
  },
  {
   "cell_type": "code",
   "execution_count": 8,
   "id": "97fccfd2",
   "metadata": {},
   "outputs": [],
   "source": [
    "# Compile the model\n",
    "loss = tf.keras.losses.SparseCategoricalCrossentropy(from_logits=True)\n",
    "optimizer = tf.keras.optimizers.Adam()\n",
    "cnn.compile(optimizer=optimizer, loss=loss,metrics=['accuracy'])"
   ]
  },
  {
   "cell_type": "code",
   "execution_count": 9,
   "id": "2a07808b",
   "metadata": {},
   "outputs": [
    {
     "name": "stdout",
     "output_type": "stream",
     "text": [
      "Epoch 1/10\n",
      "1562/1562 [==============================] - 22s 14ms/step - loss: 1.5829 - accuracy: 0.4221 - val_loss: 1.3380 - val_accuracy: 0.5173\n",
      "Epoch 2/10\n",
      "1562/1562 [==============================] - 23s 15ms/step - loss: 1.2606 - accuracy: 0.5481 - val_loss: 1.1949 - val_accuracy: 0.5706\n",
      "Epoch 3/10\n",
      "1562/1562 [==============================] - 24s 15ms/step - loss: 1.1373 - accuracy: 0.5957 - val_loss: 1.0919 - val_accuracy: 0.6117\n",
      "Epoch 4/10\n",
      "1562/1562 [==============================] - 25s 16ms/step - loss: 1.0490 - accuracy: 0.6280 - val_loss: 1.0706 - val_accuracy: 0.6207\n",
      "Epoch 5/10\n",
      "1562/1562 [==============================] - 25s 16ms/step - loss: 0.9881 - accuracy: 0.6497 - val_loss: 0.9954 - val_accuracy: 0.6484\n",
      "Epoch 6/10\n",
      "1562/1562 [==============================] - 25s 16ms/step - loss: 0.9387 - accuracy: 0.6685 - val_loss: 0.9675 - val_accuracy: 0.6599\n",
      "Epoch 7/10\n",
      "1562/1562 [==============================] - 26s 17ms/step - loss: 0.8969 - accuracy: 0.6847 - val_loss: 0.9350 - val_accuracy: 0.6742\n",
      "Epoch 8/10\n",
      "1562/1562 [==============================] - 26s 16ms/step - loss: 0.8618 - accuracy: 0.6958 - val_loss: 0.9473 - val_accuracy: 0.6728\n",
      "Epoch 9/10\n",
      "1562/1562 [==============================] - 26s 17ms/step - loss: 0.8251 - accuracy: 0.7088 - val_loss: 0.9430 - val_accuracy: 0.6699\n",
      "Epoch 10/10\n",
      "1562/1562 [==============================] - 26s 17ms/step - loss: 0.7952 - accuracy: 0.7199 - val_loss: 0.9164 - val_accuracy: 0.6874\n",
      "313/313 [==============================] - 2s 5ms/step - loss: 0.9164 - accuracy: 0.6874\n"
     ]
    },
    {
     "data": {
      "text/plain": [
       "[0.9163715839385986, 0.6873999834060669]"
      ]
     },
     "execution_count": 9,
     "metadata": {},
     "output_type": "execute_result"
    }
   ],
   "source": [
    "# Fit the model\n",
    "batch_size=32\n",
    "steps_per_epoch=len(X_train)//batch_size\n",
    "\n",
    "history_cnn = cnn.fit(X_train,y_train,epochs=10,batch_size=batch_size,\n",
    "                      steps_per_epoch=steps_per_epoch,validation_data=(X_test,y_test))\n",
    "cnn.evaluate(X_test,y_test)"
   ]
  },
  {
   "cell_type": "code",
   "execution_count": 26,
   "id": "851bcb9b",
   "metadata": {},
   "outputs": [
    {
     "data": {
      "text/plain": [
       "{'loss': [1.5828747749328613,\n",
       "  1.2605847120285034,\n",
       "  1.1373279094696045,\n",
       "  1.0490388870239258,\n",
       "  0.9880611896514893,\n",
       "  0.9386921525001526,\n",
       "  0.8968950510025024,\n",
       "  0.8618146777153015,\n",
       "  0.8250913619995117,\n",
       "  0.7951846718788147],\n",
       " 'accuracy': [0.4221350848674774,\n",
       "  0.5481107831001282,\n",
       "  0.5957212448120117,\n",
       "  0.6280019283294678,\n",
       "  0.6496757864952087,\n",
       "  0.6685278415679932,\n",
       "  0.6847382187843323,\n",
       "  0.6958053112030029,\n",
       "  0.7087535858154297,\n",
       "  0.7199207544326782],\n",
       " 'val_loss': [1.3380393981933594,\n",
       "  1.1949464082717896,\n",
       "  1.0918630361557007,\n",
       "  1.0705673694610596,\n",
       "  0.9953681826591492,\n",
       "  0.9675213694572449,\n",
       "  0.9350391626358032,\n",
       "  0.947257936000824,\n",
       "  0.9430220723152161,\n",
       "  0.9163715839385986],\n",
       " 'val_accuracy': [0.517300009727478,\n",
       "  0.5705999732017517,\n",
       "  0.6116999983787537,\n",
       "  0.6207000017166138,\n",
       "  0.6484000086784363,\n",
       "  0.6599000096321106,\n",
       "  0.6741999983787537,\n",
       "  0.6728000044822693,\n",
       "  0.6699000000953674,\n",
       "  0.6873999834060669]}"
      ]
     },
     "execution_count": 26,
     "metadata": {},
     "output_type": "execute_result"
    }
   ],
   "source": [
    "history_cnn.history"
   ]
  },
  {
   "cell_type": "code",
   "execution_count": 16,
   "id": "26bc3c63",
   "metadata": {},
   "outputs": [
    {
     "data": {
      "image/png": "[encoded data removed]",
      "text/plain": [
       "<Figure size 432x288 with 1 Axes>"
      ]
     },
     "metadata": {
      "needs_background": "light"
     },
     "output_type": "display_data"
    }
   ],
   "source": [
    "# Evaluate the model\n",
    "plt.plot(history_cnn.history['accuracy'])\n",
    "plt.plot(history_cnn.history['val_accuracy'])\n",
    "plt.title('CNN Model accuracy')\n",
    "plt.ylabel('Accuracy')\n",
    "plt.xlabel('Epoch')\n",
    "plt.legend(['Train', 'Validation'], loc='upper left')\n",
    "plt.show()"
   ]
  },
  {
   "cell_type": "code",
   "execution_count": 17,
   "id": "e6ccbfc0",
   "metadata": {},
   "outputs": [
    {
     "data": {
      "image/png": "[encoded data removed]",
      "text/plain": [
       "<Figure size 432x288 with 1 Axes>"
      ]
     },
     "metadata": {
      "needs_background": "light"
     },
     "output_type": "display_data"
    }
   ],
   "source": [
    "# Plot training & validation Loss values\n",
    "plt.plot(history_cnn.history['loss'])\n",
    "plt.plot(history_cnn.history['val_loss'])\n",
    "plt.title('CNN Model loss')\n",
    "plt.ylabel('Loss')\n",
    "plt.xlabel('Epoch')\n",
    "plt.legend(['Train', 'Validation'], loc='upper left')\n",
    "plt.show()"
   ]
  },
  {
   "cell_type": "code",
   "execution_count": 23,
   "id": "29f62bb1",
   "metadata": {},
   "outputs": [
    {
     "name": "stdout",
     "output_type": "stream",
     "text": [
      "Epoch 1/10\n",
      "1562/1562 [==============================] - 38s 24ms/step - loss: 1.0198 - accuracy: 0.6419 - val_loss: 1.0823 - val_accuracy: 0.6158\n",
      "Epoch 2/10\n",
      "1562/1562 [==============================] - 39s 25ms/step - loss: 0.9938 - accuracy: 0.6482 - val_loss: 1.0084 - val_accuracy: 0.6443\n",
      "Epoch 3/10\n",
      "1562/1562 [==============================] - 41s 26ms/step - loss: 0.9691 - accuracy: 0.6568 - val_loss: 1.0888 - val_accuracy: 0.6240\n",
      "Epoch 4/10\n",
      "1562/1562 [==============================] - 42s 27ms/step - loss: 0.9519 - accuracy: 0.6637 - val_loss: 0.9626 - val_accuracy: 0.6583\n",
      "Epoch 5/10\n",
      "1562/1562 [==============================] - 42s 27ms/step - loss: 0.9363 - accuracy: 0.6709 - val_loss: 1.0649 - val_accuracy: 0.6261\n",
      "Epoch 6/10\n",
      "1562/1562 [==============================] - 42s 27ms/step - loss: 0.9309 - accuracy: 0.6708 - val_loss: 0.9691 - val_accuracy: 0.6598\n",
      "Epoch 7/10\n",
      "1562/1562 [==============================] - 44s 28ms/step - loss: 0.9087 - accuracy: 0.6802 - val_loss: 0.9456 - val_accuracy: 0.6674\n",
      "Epoch 8/10\n",
      "1562/1562 [==============================] - 43s 28ms/step - loss: 0.9017 - accuracy: 0.6829 - val_loss: 0.9381 - val_accuracy: 0.6746\n",
      "Epoch 9/10\n",
      "1562/1562 [==============================] - 42s 27ms/step - loss: 0.8910 - accuracy: 0.6870 - val_loss: 0.9051 - val_accuracy: 0.6807\n",
      "Epoch 10/10\n",
      "1562/1562 [==============================] - 41s 27ms/step - loss: 0.8840 - accuracy: 0.6898 - val_loss: 0.9447 - val_accuracy: 0.6738\n"
     ]
    }
   ],
   "source": [
    "# Data Augmentation\n",
    "from tensorflow.keras.preprocessing.image import ImageDataGenerator\n",
    "datagen = ImageDataGenerator(rotation_range=15,\n",
    "    width_shift_range=0.1,\n",
    "    height_shift_range=0.1,\n",
    "    horizontal_flip=True,\n",
    "    vertical_flip=False,\n",
    "    fill_mode='nearest')\n",
    "\n",
    "train_generator = datagen.flow(X_train, y_train, batch_size=batch_size)\n",
    "test_generator = datagen.flow(X_test, y_test, batch_size=batch_size)\n",
    "\n",
    "history_gen = cnn.fit(train_generator, steps_per_epoch=len(X_train)//batch_size,epochs=10,\n",
    "                     validation_data=test_generator,validation_steps=len(X_test)//batch_size)"
   ]
  },
  {
   "cell_type": "code",
   "execution_count": 27,
   "id": "57c73779",
   "metadata": {},
   "outputs": [
    {
     "name": "stdout",
     "output_type": "stream",
     "text": [
      "Epoch 1/10\n",
      "1562/1562 [==============================] - 37s 24ms/step - loss: 0.8722 - accuracy: 0.6949 - val_loss: 0.9182 - val_accuracy: 0.6815\n",
      "Epoch 2/10\n",
      "1562/1562 [==============================] - 41s 26ms/step - loss: 0.8696 - accuracy: 0.6957 - val_loss: 0.8705 - val_accuracy: 0.6904\n",
      "Epoch 3/10\n",
      "1562/1562 [==============================] - 48s 31ms/step - loss: 0.8590 - accuracy: 0.7001 - val_loss: 0.8677 - val_accuracy: 0.6982\n",
      "Epoch 4/10\n",
      "1562/1562 [==============================] - 42s 27ms/step - loss: 0.8443 - accuracy: 0.7045 - val_loss: 0.8602 - val_accuracy: 0.7029\n",
      "Epoch 5/10\n",
      "1562/1562 [==============================] - 42s 27ms/step - loss: 0.8407 - accuracy: 0.7069 - val_loss: 0.8828 - val_accuracy: 0.6930\n",
      "Epoch 6/10\n",
      "1562/1562 [==============================] - 41s 27ms/step - loss: 0.8361 - accuracy: 0.7075 - val_loss: 0.8870 - val_accuracy: 0.6944\n",
      "Epoch 7/10\n",
      "1562/1562 [==============================] - 44s 28ms/step - loss: 0.8351 - accuracy: 0.7096 - val_loss: 0.8458 - val_accuracy: 0.6989\n",
      "Epoch 8/10\n",
      "1562/1562 [==============================] - 43s 27ms/step - loss: 0.8300 - accuracy: 0.7101 - val_loss: 0.8796 - val_accuracy: 0.6949\n",
      "Epoch 9/10\n",
      "1562/1562 [==============================] - 43s 28ms/step - loss: 0.8124 - accuracy: 0.7141 - val_loss: 0.8454 - val_accuracy: 0.7062\n",
      "Epoch 10/10\n",
      "1562/1562 [==============================] - 42s 27ms/step - loss: 0.8142 - accuracy: 0.7153 - val_loss: 0.8497 - val_accuracy: 0.7086\n"
     ]
    }
   ],
   "source": [
    "history_cnn = cnn.fit(train_generator, steps_per_epoch=len(X_train)//batch_size,epochs=10,\n",
    "                     validation_data=test_generator,validation_steps=len(X_test)//batch_size)"
   ]
  },
  {
   "cell_type": "code",
   "execution_count": 28,
   "id": "3aa8ad1e",
   "metadata": {},
   "outputs": [
    {
     "data": {
      "text/plain": [
       "{'loss': [0.8722352385520935,\n",
       "  0.8696213960647583,\n",
       "  0.8589755892753601,\n",
       "  0.8442867398262024,\n",
       "  0.8406784534454346,\n",
       "  0.8361497521400452,\n",
       "  0.8350697755813599,\n",
       "  0.8300426602363586,\n",
       "  0.8124383091926575,\n",
       "  0.8141874074935913],\n",
       " 'accuracy': [0.694884717464447,\n",
       "  0.6957252621650696,\n",
       "  0.7000880837440491,\n",
       "  0.7044708728790283,\n",
       "  0.7069324254989624,\n",
       "  0.7075328230857849,\n",
       "  0.7095741033554077,\n",
       "  0.7100744247436523,\n",
       "  0.7140769958496094,\n",
       "  0.7152978181838989],\n",
       " 'val_loss': [0.9181681871414185,\n",
       "  0.870499849319458,\n",
       "  0.867668628692627,\n",
       "  0.860244870185852,\n",
       "  0.8827540278434753,\n",
       "  0.8869592547416687,\n",
       "  0.8457674980163574,\n",
       "  0.8795680403709412,\n",
       "  0.8453637957572937,\n",
       "  0.8496934175491333],\n",
       " 'val_accuracy': [0.6814903616905212,\n",
       "  0.6904046535491943,\n",
       "  0.6982171535491943,\n",
       "  0.7029246687889099,\n",
       "  0.6930088400840759,\n",
       "  0.694411039352417,\n",
       "  0.6989182829856873,\n",
       "  0.6949118375778198,\n",
       "  0.7062299847602844,\n",
       "  0.7086338400840759]}"
      ]
     },
     "execution_count": 28,
     "metadata": {},
     "output_type": "execute_result"
    }
   ],
   "source": [
    "history_cnn.history"
   ]
  },
  {
   "cell_type": "code",
   "execution_count": 24,
   "id": "a2dc072d",
   "metadata": {},
   "outputs": [
    {
     "name": "stdout",
     "output_type": "stream",
     "text": [
      "313/313 [==============================] - 4s 14ms/step - loss: 0.9380 - accuracy: 0.6745\n"
     ]
    },
    {
     "data": {
      "text/plain": [
       "[0.9379933476448059, 0.6744999885559082]"
      ]
     },
     "execution_count": 24,
     "metadata": {},
     "output_type": "execute_result"
    }
   ],
   "source": [
    "cnn.evaluate(test_generator)"
   ]
  },
  {
   "cell_type": "code",
   "execution_count": 31,
   "id": "15892729",
   "metadata": {},
   "outputs": [
    {
     "data": {
      "text/plain": [
       "[<matplotlib.lines.Line2D at 0x1cd96b1d610>]"
      ]
     },
     "execution_count": 31,
     "metadata": {},
     "output_type": "execute_result"
    },
    {
     "data": {
      "image/png": "[encoded data removed]",
      "text/plain": [
       "<Figure size 720x360 with 1 Axes>"
      ]
     },
     "metadata": {
      "needs_background": "light"
     },
     "output_type": "display_data"
    }
   ],
   "source": [
    "plt.figure(figsize=(10,5))\n",
    "plt.plot(history_gen.history['accuracy'])\n",
    "plt.plot(history_gen.history['val_accuracy'])"
   ]
  },
  {
   "cell_type": "code",
   "execution_count": 30,
   "id": "b8f0109f",
   "metadata": {},
   "outputs": [
    {
     "data": {
      "text/plain": [
       "[<matplotlib.lines.Line2D at 0x1cd96c8f4c0>]"
      ]
     },
     "execution_count": 30,
     "metadata": {},
     "output_type": "execute_result"
    },
    {
     "data": {
      "image/png": "[encoded data removed]",
      "text/plain": [
       "<Figure size 432x288 with 1 Axes>"
      ]
     },
     "metadata": {
      "needs_background": "light"
     },
     "output_type": "display_data"
    }
   ],
   "source": [
    "plt.plot(history_cnn.history['accuracy'])\n",
    "plt.plot(history_cnn.history['val_accuracy'])"
   ]
  },
  {
   "cell_type": "code",
   "execution_count": 32,
   "id": "d4b9e42e",
   "metadata": {},
   "outputs": [
    {
     "data": {
      "text/plain": [
       "[<matplotlib.lines.Line2D at 0x1cd96d3f6d0>]"
      ]
     },
     "execution_count": 32,
     "metadata": {},
     "output_type": "execute_result"
    },
    {
     "data": {
      "image/png": "[encoded data removed]",
      "text/plain": [
       "<Figure size 432x288 with 1 Axes>"
      ]
     },
     "metadata": {
      "needs_background": "light"
     },
     "output_type": "display_data"
    }
   ],
   "source": [
    "plt.plot(history_gen.history['loss'])\n",
    "plt.plot(history_gen.history['val_loss'])"
   ]
  },
  {
   "cell_type": "code",
   "execution_count": null,
   "id": "4c2740ef",
   "metadata": {},
   "outputs": [],
   "source": []
  },
  {
   "cell_type": "code",
   "execution_count": null,
   "id": "ab4b177f",
   "metadata": {},
   "outputs": [],
   "source": []
  }
 ],
 "metadata": {
  "kernelspec": {
   "display_name": "Python 3",
   "language": "python",
   "name": "python3"
  },
  "language_info": {
   "codemirror_mode": {
    "name": "ipython",
    "version": 3
   },
   "file_extension": ".py",
   "mimetype": "text/x-python",
   "name": "python",
   "nbconvert_exporter": "python",
   "pygments_lexer": "ipython3",
   "version": "3.8.8"
  }
 },
 "nbformat": 4,
 "nbformat_minor": 5
}
